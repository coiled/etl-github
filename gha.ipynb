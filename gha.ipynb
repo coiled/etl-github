{
 "cells": [
  {
   "cell_type": "markdown",
   "id": "cb6c397f-a28d-41ff-8f54-e5afd952c412",
   "metadata": {},
   "source": [
    "## Remote Files"
   ]
  },
  {
   "cell_type": "code",
   "execution_count": null,
   "id": "85afe518-1f5a-45f1-a710-0feac8ca18f1",
   "metadata": {
    "tags": []
   },
   "outputs": [],
   "source": [
    "from datetime import date, timedelta\n",
    "sdate = date(2023,1,1)   # start date\n",
    "edate = date(2024,2,1)   # end date\n",
    "\n",
    "import pandas as pd\n",
    "dates = pd.date_range(sdate,edate-timedelta(days=1),freq='d')\n",
    "hours = [str(dt.date()) + f\"-{h}.json.gz\" for dt in dates for h in range(24)]\n",
    "filenames = [\"https://data.gharchive.org/\" + hour for hour in hours]\n",
    "filenames[:5]"
   ]
  },
  {
   "cell_type": "code",
   "execution_count": null,
   "id": "dc248b41-993e-4d65-bf5e-9995575e45d7",
   "metadata": {
    "tags": []
   },
   "outputs": [],
   "source": [
    "import coiled\n",
    "cluster = coiled.Cluster(\n",
    "    worker_cpu=1,\n",
    "    arm=True,\n",
    "    n_workers=200,\n",
    "    spot_policy=\"spot_with_fallback\",\n",
    ")\n",
    "client = cluster.get_client()"
   ]
  },
  {
   "cell_type": "code",
   "execution_count": null,
   "id": "44c8f02c-4aa4-43c2-b98e-39ac68624159",
   "metadata": {
    "tags": []
   },
   "outputs": [],
   "source": [
    "cluster.adapt(minimum=5, maximum=500)"
   ]
  },
  {
   "cell_type": "code",
   "execution_count": null,
   "id": "18282c17-6862-4ca4-9d60-ed4851868ebf",
   "metadata": {},
   "outputs": [],
   "source": [
    "import dask.bag as db\n",
    "import json\n",
    "\n",
    "def safe_json_loads(line):\n",
    "    try:\n",
    "        return json.loads(line)\n",
    "    except Exception:\n",
    "        return None\n",
    "\n",
    "b = db.read_text(filenames).map(safe_json_loads)\n",
    "bad = b.filter(lambda x: x is None)\n",
    "b = b.filter(None)"
   ]
  },
  {
   "cell_type": "code",
   "execution_count": null,
   "id": "c50f582b-f6f5-4b01-a132-a65a6e17bc33",
   "metadata": {},
   "outputs": [],
   "source": [
    "bad.count().compute()"
   ]
  },
  {
   "cell_type": "code",
   "execution_count": null,
   "id": "40fbffd4-87eb-49c5-9ee1-2173fbe8347b",
   "metadata": {},
   "outputs": [],
   "source": [
    "len(filenames)"
   ]
  },
  {
   "cell_type": "code",
   "execution_count": null,
   "id": "e9980f2d-c413-4928-8b7f-f3c45032990f",
   "metadata": {},
   "outputs": [],
   "source": [
    "b.take(1)"
   ]
  },
  {
   "cell_type": "markdown",
   "id": "88493a62-304d-4cac-b22d-e2866ef4e089",
   "metadata": {},
   "source": [
    "## Local Files"
   ]
  },
  {
   "cell_type": "code",
   "execution_count": null,
   "id": "49d8b433-5523-40d4-ab8d-dadd2cb17819",
   "metadata": {},
   "outputs": [],
   "source": [
    "from dask.distributed import LocalCluster\n",
    "cluster = LocalCluster()\n",
    "client = cluster.get_client()"
   ]
  },
  {
   "cell_type": "code",
   "execution_count": null,
   "id": "f999d075-2f06-440a-aa40-d73601019409",
   "metadata": {
    "tags": []
   },
   "outputs": [],
   "source": [
    "import json\n",
    "import dask.bag as db\n",
    "\n",
    "b = db.read_text(\"2024-02-27-15.json\", blocksize=\"50 MiB\").map(json.loads)\n",
    "b.take(2)"
   ]
  },
  {
   "cell_type": "markdown",
   "id": "81e57f42-e7f8-43c8-b7d1-75f978f08fe2",
   "metadata": {},
   "source": [
    "## Computations"
   ]
  },
  {
   "cell_type": "code",
   "execution_count": null,
   "id": "4d12f3fb-cfd3-483e-9faa-981e3ffdc5fd",
   "metadata": {},
   "outputs": [],
   "source": [
    "b.pluck(\"type\").frequencies(sort=True).compute()"
   ]
  },
  {
   "cell_type": "code",
   "execution_count": null,
   "id": "512840de-89c2-44f3-9716-afe9c9faeb61",
   "metadata": {},
   "outputs": [],
   "source": [
    "def handle_PushEvent(d):\n",
    "    for commit in d[\"payload\"][\"commits\"]:\n",
    "        yield {\n",
    "            \"username\": d[\"actor\"][\"login\"],\n",
    "            \"repo\": d[\"repo\"][\"name\"],\n",
    "            \"sha\": commit[\"sha\"],\n",
    "            \"message\": commit[\"message\"],\n",
    "            \"created_at\": d[\"created_at\"],\n",
    "        }\n",
    "        \n",
    "def handle_CreateEvent(d):\n",
    "    return {\n",
    "        \"username\": d[\"actor\"][\"login\"],\n",
    "        \"repo\": d[\"repo\"][\"name\"],\n",
    "        \"type\": d[\"payload\"][\"ref_type\"],\n",
    "        \"name\": d[\"payload\"][\"ref\"],\n",
    "        \"description\": d[\"payload\"][\"description\"],\n",
    "        \"created_at\": d[\"created_at\"],\n",
    "    }\n",
    "\n",
    "def handle_PullRequestEvent(d):\n",
    "    return {\n",
    "        \"username\": d[\"actor\"][\"login\"],\n",
    "        \"repo\": d[\"repo\"][\"name\"],\n",
    "        \"action\": d[\"payload\"][\"action\"],\n",
    "        \"number\": d[\"payload\"][\"number\"],\n",
    "        \"title\": d[\"payload\"][\"pull_request\"][\"title\"],\n",
    "        \"author\": d[\"payload\"][\"pull_request\"][\"user\"][\"login\"],\n",
    "        \"body\": d[\"payload\"][\"pull_request\"][\"body\"],\n",
    "        \"pr_created_at\": d[\"payload\"][\"pull_request\"][\"created_at\"],\n",
    "        \"created_at\": d[\"created_at\"],\n",
    "    }\n",
    "\n",
    "def handle_IssueCommentEvent(d):\n",
    "    return {\n",
    "        \"username\": d[\"actor\"][\"login\"],\n",
    "        \"repo\": d[\"repo\"][\"name\"],\n",
    "        \"number\": d[\"payload\"][\"issue\"][\"number\"],\n",
    "        \"title\": d[\"payload\"][\"issue\"][\"title\"],\n",
    "        \"author\": d[\"payload\"][\"issue\"][\"user\"][\"login\"],\n",
    "        \"issue_created_at\":  d[\"payload\"][\"issue\"][\"created_at\"],\n",
    "        \"comment\": d[\"payload\"][\"comment\"][\"body\"],\n",
    "        \"association\": d[\"payload\"][\"comment\"][\"author_association\"],\n",
    "        \"created_at\": d[\"created_at\"],\n",
    "    }"
   ]
  },
  {
   "cell_type": "code",
   "execution_count": null,
   "id": "ebe0149b-355e-4346-bdd6-5a69bad5baac",
   "metadata": {},
   "outputs": [],
   "source": [
    "commits = (\n",
    "    b.filter(lambda d: d[\"type\"] == \"PushEvent\")\n",
    "     .map(handle_PushEvent)\n",
    "     .flatten()\n",
    ")\n",
    "creates = (\n",
    "    b.filter(lambda d: d[\"type\"] == \"CreateEvent\")\n",
    "     .map(handle_CreateEvent)\n",
    ")\n",
    "prs = (\n",
    "    b.filter(lambda d: d[\"type\"] == \"PullRequestEvent\")\n",
    "     .map(handle_PullRequestEvent)\n",
    ")\n",
    "comments = (\n",
    "    b.filter(lambda d: d[\"type\"] == \"IssueCommentEvent\")\n",
    "     .map(handle_IssueCommentEvent)\n",
    ")"
   ]
  },
  {
   "cell_type": "code",
   "execution_count": null,
   "id": "034d952d-0e14-4a8e-9b1f-97f97d7c0473",
   "metadata": {},
   "outputs": [],
   "source": [
    "commits.take(5)"
   ]
  },
  {
   "cell_type": "code",
   "execution_count": null,
   "id": "4d04e364-6423-47ef-b3cf-36b1729e581c",
   "metadata": {},
   "outputs": [],
   "source": [
    "commits.count().compute()"
   ]
  },
  {
   "cell_type": "code",
   "execution_count": null,
   "id": "c571b803-2f08-490b-838d-2806b1da1515",
   "metadata": {},
   "outputs": [],
   "source": [
    "creates.count().compute()"
   ]
  },
  {
   "cell_type": "code",
   "execution_count": null,
   "id": "35ea45b5-df2e-4c30-bb0f-262d49edb2b7",
   "metadata": {},
   "outputs": [],
   "source": [
    "prs.count().compute()"
   ]
  },
  {
   "cell_type": "code",
   "execution_count": null,
   "id": "55ccd38b-fded-4ba8-b0e0-b1238e9934b5",
   "metadata": {},
   "outputs": [],
   "source": [
    "comments.count().compute()"
   ]
  },
  {
   "cell_type": "code",
   "execution_count": null,
   "id": "0ef42846-4d8e-48f3-85df-070dc5612af8",
   "metadata": {},
   "outputs": [],
   "source": [
    "creates.take(5)"
   ]
  },
  {
   "cell_type": "code",
   "execution_count": null,
   "id": "58b5b337-f5a7-4946-adfb-d667f7fa20e5",
   "metadata": {},
   "outputs": [],
   "source": [
    "prs.take(5)"
   ]
  },
  {
   "cell_type": "code",
   "execution_count": null,
   "id": "06249b0b-190d-4908-b049-8280526b8284",
   "metadata": {},
   "outputs": [],
   "source": [
    "comments.take(5)"
   ]
  },
  {
   "cell_type": "code",
   "execution_count": null,
   "id": "fdf03271-234c-4335-9d6d-65b731349cd1",
   "metadata": {},
   "outputs": [],
   "source": [
    "# Things work \n",
    "import dask\n",
    "\n",
    "dask.compute(\n",
    "    commits.count(),\n",
    "    creates.count(),\n",
    "    prs.count(),\n",
    "    comments.count(),\n",
    ")"
   ]
  },
  {
   "cell_type": "code",
   "execution_count": null,
   "id": "791dacb9-2e32-43cd-bdea-47c442e1c522",
   "metadata": {},
   "outputs": [],
   "source": [
    "commits.filter(lambda d: \" dask\" in d[\"message\"]).compute()"
   ]
  },
  {
   "cell_type": "code",
   "execution_count": null,
   "id": "2d96cef2-3d1b-4dd7-8496-e8e8dbdbb819",
   "metadata": {},
   "outputs": [],
   "source": [
    "comments.filter(lambda d: \" dask\" in d[\"comment\"] or \" dask\" in d[\"title\"]).compute()"
   ]
  },
  {
   "cell_type": "code",
   "execution_count": null,
   "id": "dfa7c3ac-6937-4d73-9145-f65cd04ddcaf",
   "metadata": {},
   "outputs": [],
   "source": [
    "@task\n",
    "@coiled.function\n",
    "def process_json_file(...)\n",
    "    ...\n",
    "    \n",
    "def process_recent_json_files(...):\n",
    "    last_read = deltalake.Table(\"commits\").tail()[-1].date\n",
    "    now = datetime.now()\n",
    "    \n",
    "    everything_since_last_read: list[str]\n",
    "    process_json_file.map(everything_since_last_read)"
   ]
  },
  {
   "cell_type": "markdown",
   "id": "55116ce3-30f3-4ea1-a418-65d712b4af01",
   "metadata": {},
   "source": [
    "# Questions to ask\n",
    "\n",
    "-  Projects of issues or commits mentioning Dask.  Recent trends over a few time scales.  Same with people using Dask.\n",
    "    -  App where people could replace Dask with something else and then we go and crunch some data\n",
    "-  Synthesize non-event views of repos/users/etc..\n",
    "    -  Popular repositories from recent activity watch/fork events\n"
   ]
  },
  {
   "cell_type": "code",
   "execution_count": null,
   "id": "b15e9d04-6226-4254-90ac-ac6d8da624d7",
   "metadata": {},
   "outputs": [],
   "source": []
  }
 ],
 "metadata": {
  "kernelspec": {
   "display_name": "Python [conda env:coiled]",
   "language": "python",
   "name": "conda-env-coiled-py"
  },
  "language_info": {
   "codemirror_mode": {
    "name": "ipython",
    "version": 3
   },
   "file_extension": ".py",
   "mimetype": "text/x-python",
   "name": "python",
   "nbconvert_exporter": "python",
   "pygments_lexer": "ipython3",
   "version": "3.10.13"
  }
 },
 "nbformat": 4,
 "nbformat_minor": 5
}
